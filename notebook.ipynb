{
 "cells": [
  {
   "cell_type": "markdown",
   "metadata": {},
   "source": [
    "### Class & function definitions"
   ]
  },
  {
   "cell_type": "code",
   "execution_count": 139,
   "metadata": {},
   "outputs": [],
   "source": [
    "# parent class for all school members\n",
    "class SchoolMember:\n",
    "    instances = []\n",
    "\n",
    "    def __init__(self, name=None, id=None, phone=None, email=None, location=None):\n",
    "        self.name = name\n",
    "        self.id = id\n",
    "        self.phone = phone\n",
    "        self.email = email\n",
    "        self.location = location\n",
    "        \n",
    "        # adding instance if id was given (teacher/student not finder object)\n",
    "        try:\n",
    "            if self.id:\n",
    "                self.__class__.instances.append(self)\n",
    "        except:\n",
    "            pass\n",
    "\n",
    "    def find_member(self, id):\n",
    "        for member in self.__class__.instances:\n",
    "            if member.id and member.id == str(id):\n",
    "                return member\n",
    "        else:\n",
    "            print('no member was found for the given ID!')\n",
    "            return None\n",
    "\n",
    "\n",
    "# child class for students\n",
    "class Student(SchoolMember):\n",
    "    def __init__(self, name=None, id=None, phone=None, email=None, location=None, tuition_fees=None, grade=None, subjects = {}):\n",
    "        super().__init__(name, id, phone, email, location)\n",
    "        self.tuition_fees = tuition_fees\n",
    "        self.grade = grade\n",
    "        self.subjects = subjects\n",
    "        self.results = {}\n",
    "        self.calc_results()\n",
    "        self.__str__ = f'''Name          : {self.name}\n",
    "ID            : {self.id}\n",
    "Type          : Student\n",
    "Phone         : {self.phone}\n",
    "Email         : {self.email}\n",
    "Location      : {self.location}\n",
    "Tuition fees  : {self.tuition_fees}\n",
    "Subjects      : {self.subjects}\n",
    "Results       : {self.results}'''\n",
    "\n",
    "    def add_subject(self, subject, grade):\n",
    "        self.subjects[subject] = grade\n",
    "        self.calc_results()\n",
    "\n",
    "    def modify_subject(self, subject, grade):\n",
    "        self.subjects[subject] = grade\n",
    "        self.calc_results()\n",
    "\n",
    "    def remove_subject(self, subject):\n",
    "        del self.subjects[subject]\n",
    "        del self.results[subject]\n",
    "\n",
    "    def calc_total_percentage(self):\n",
    "        sum_grades = sum(self.subjects.values())\n",
    "        max_total = len(self.subjects) * 100\n",
    "        return round(sum_grades / max_total * 100, 2)\n",
    "\n",
    "    def calc_results(self):\n",
    "        for subject in self.subjects:\n",
    "            if self.subjects[subject] >= 90:\n",
    "                self.results[subject] = 'A'\n",
    "            elif self.subjects[subject] >= 80:\n",
    "                self.results[subject] = 'B'\n",
    "            elif self.subjects[subject] >= 70:\n",
    "                self.results[subject] = 'C'\n",
    "            elif self.subjects[subject] >= 60:\n",
    "                self.results[subject] = 'D'\n",
    "            else:\n",
    "                self.results[subject] = 'F'\n",
    "\n",
    "\n",
    "# child class for teachers\n",
    "class Teacher(SchoolMember):\n",
    "    def __init__(self, name=None, id=None, phone=None, email=None, location=None, subjects=None, salary=None):\n",
    "        super().__init__(name, id, phone, email, location)\n",
    "        self.subjects = subjects\n",
    "        self.salary = salary\n",
    "        self.__str__ = f'''Name          : {self.name}\n",
    "ID            : {self.id}\n",
    "Type          : Teacher\n",
    "Phone         : {self.phone}\n",
    "Email         : {self.email}\n",
    "Location      : {self.location}\n",
    "Salary        : {self.salary}\n",
    "Subjects      : {self.subjects}'''\n",
    "\n",
    "\n",
    "# taking input data interactively\n",
    "def validate(input, validate_for):\n",
    "    if validate_for == 'member_type':\n",
    "        if input.lower() in ['1', '2']:\n",
    "            return True\n",
    "        else:\n",
    "            return False\n",
    "    elif validate_for == 'phone':\n",
    "        try:\n",
    "            int(input)\n",
    "            return True\n",
    "        except:\n",
    "            return False\n",
    "    elif validate_for in ['salary', 'tuition_fees']:\n",
    "        try:\n",
    "            float(input)\n",
    "            return True\n",
    "        except Exception as e:\n",
    "            print(e)\n",
    "            return False\n",
    "    elif validate_for in ['subjects']:\n",
    "        try:\n",
    "            subjects_grades = [item.strip() for item in input.split(',')]\n",
    "            grades = [item.split(':')[1].strip() for item in subjects_grades]\n",
    "            for grade in grades:\n",
    "                try:\n",
    "                    float(grade)\n",
    "                except:\n",
    "                    return False\n",
    "            return True\n",
    "        except:\n",
    "            return False\n",
    "\n",
    "\n",
    "# adding school members interactively\n",
    "def add_members():\n",
    "    while True:\n",
    "        # member_type\n",
    "        while True:\n",
    "            member_type = input(\n",
    "                'Select member type, 1 for Teacher, 2 for Student: ')\n",
    "            if validate(member_type, validate_for='member_type'):\n",
    "                break\n",
    "            else:\n",
    "                print('Invalid input!')\n",
    "\n",
    "        # name\n",
    "        name = input('Name: ')\n",
    "\n",
    "        # id\n",
    "        id = input('ID: ')\n",
    "\n",
    "        # phone\n",
    "        while True:\n",
    "            phone = input('Phone: ')\n",
    "            if validate(phone, validate_for='phone'):\n",
    "                break\n",
    "            else:\n",
    "                print('Invalid input!')\n",
    "\n",
    "        # email\n",
    "        email = input('Email: ')\n",
    "\n",
    "        # location\n",
    "        location = input('Lacation: ')\n",
    "\n",
    "        # teacher instance\n",
    "        if member_type == '1':\n",
    "            # subjects\n",
    "            subjects_input = input('Subjects (comma separated): ')\n",
    "            subjects = [subject.strip()\n",
    "                        for subject in subjects_input.split(',')]\n",
    "\n",
    "            # salary\n",
    "            while True:\n",
    "                salary = input('Salary:')\n",
    "                if validate(salary, validate_for='salary'):\n",
    "                    break\n",
    "                else:\n",
    "                    print('Invalid input!')\n",
    "\n",
    "            # adding instance\n",
    "            Teacher(name=name,\n",
    "                    id=id,\n",
    "                    phone=phone,\n",
    "                    email=email,\n",
    "                    location=location,\n",
    "                    subjects=subjects,\n",
    "                    salary=salary)\n",
    "\n",
    "        # student instance\n",
    "        else:  # member_type should be '2' already\n",
    "            # subjects\n",
    "            while True:\n",
    "                subjects_input = input(\n",
    "                    'Enter subjects & grades in the form: \"Math:70, English:80\"\\nSubjects & grades:')\n",
    "                if validate(subjects_input, 'subjects'):\n",
    "                    break\n",
    "                else:\n",
    "                    print('Invalid input!')\n",
    "            subjects_grades = [subject.strip()\n",
    "                               for subject in subjects_input.split(',')]\n",
    "            subjects = {item.split(':')[0].strip(): float(item.split(\n",
    "                ':')[1].strip()) for item in subjects_grades}\n",
    "\n",
    "            # fees\n",
    "            while True:\n",
    "                tuition_fees = input('Tuition fees:')\n",
    "                if validate(tuition_fees, validate_for='tuition_fees'):\n",
    "                    break\n",
    "                else:\n",
    "                    print('Invalid input!')\n",
    "            \n",
    "            # grade\n",
    "            grade = input('Grade: ')\n",
    "\n",
    "            # adding instance\n",
    "            Student(name=name,\n",
    "                    id=id,\n",
    "                    phone=phone,\n",
    "                    email=email,\n",
    "                    location=location,\n",
    "                    grade=grade,\n",
    "                    tuition_fees=tuition_fees,\n",
    "                    subjects=subjects,)\n",
    "\n",
    "        # continue/exit\n",
    "        exit_flag = False\n",
    "        while True:\n",
    "            option = input('Enter q to exit, any other input to continue:')\n",
    "            if option.lower() == 'q':\n",
    "                exit_flag = True\n",
    "            break\n",
    "        if exit_flag:\n",
    "            break\n",
    "\n",
    "\n",
    "# searching members\n",
    "def find_member_by_id(id):\n",
    "    return SchoolMember().find_member(id)\n",
    "\n",
    "\n",
    "# display members info\n",
    "def display_school_members():\n",
    "    option = input(\n",
    "        'Enter 1 for all members, 2 for students, 3 for teachers, 4 for a specific ID: ')\n",
    "\n",
    "    if option == '1':\n",
    "        for member in SchoolMember.instances:\n",
    "            # student members\n",
    "            try:\n",
    "                member.tuition_fees\n",
    "                print(f'Name          : {member.name}')\n",
    "                print(f'ID            : {member.id}')\n",
    "                print(f'Type          : Student')\n",
    "                print('-------------------------------------')\n",
    "            # teacher members\n",
    "            except:\n",
    "                print(f'Name          : {member.name}')\n",
    "                print(f'ID            : {member.id}')\n",
    "                print(f'Type          : Teacher')\n",
    "                print('-------------------------------------')\n",
    "    elif option == '2':\n",
    "        for member in SchoolMember.instances:\n",
    "            # student members\n",
    "            try:\n",
    "                member.tuition_fees\n",
    "                print(f'Name          : {member.name}')\n",
    "                print(f'ID            : {member.id}')\n",
    "                print(f'Type          : Student')\n",
    "                print('-------------------------------------')\n",
    "            except:\n",
    "                pass\n",
    "    elif option == '3':\n",
    "        for member in SchoolMember.instances:\n",
    "            # teacher members\n",
    "            try:\n",
    "                member.salary\n",
    "                print(f'Name          : {member.name}')\n",
    "                print(f'ID            : {member.id}')\n",
    "                print(f'Type          : Teacher')\n",
    "                print('-------------------------------------')\n",
    "            except:\n",
    "                pass\n",
    "    elif option == '4':\n",
    "        id = input('Enter member ID: ')\n",
    "        member = find_member_by_id(id)\n",
    "        # student member\n",
    "        try:\n",
    "            member.tuition_fees\n",
    "            print(member.__str__)\n",
    "            print('-------------------------------------')\n",
    "        # teacher member\n",
    "        except:\n",
    "            print(member.__str__)\n",
    "            print('-------------------------------------')\n"
   ]
  },
  {
   "cell_type": "markdown",
   "metadata": {},
   "source": [
    "### Adding & dispalying school members"
   ]
  },
  {
   "cell_type": "code",
   "execution_count": 140,
   "metadata": {},
   "outputs": [
    {
     "name": "stdout",
     "output_type": "stream",
     "text": [
      "Name          : Ahmed\n",
      "ID            : 1\n",
      "Type          : Teacher\n",
      "-------------------------------------\n"
     ]
    }
   ],
   "source": [
    "# adding a teacher member\n",
    "add_members()\n",
    "# displaying all members (input = 1)\n",
    "display_school_members()"
   ]
  },
  {
   "cell_type": "code",
   "execution_count": 141,
   "metadata": {},
   "outputs": [
    {
     "name": "stdout",
     "output_type": "stream",
     "text": [
      "Name          : Ahmed\n",
      "ID            : 1\n",
      "Type          : Teacher\n",
      "-------------------------------------\n",
      "Name          : mohamed\n",
      "ID            : 2\n",
      "Type          : Student\n",
      "-------------------------------------\n"
     ]
    }
   ],
   "source": [
    "# adding one student member\n",
    "add_members()\n",
    "# displaying all members (input = 1)\n",
    "display_school_members()"
   ]
  },
  {
   "cell_type": "code",
   "execution_count": 143,
   "metadata": {},
   "outputs": [
    {
     "name": "stdout",
     "output_type": "stream",
     "text": [
      "Name          : mohamed\n",
      "ID            : 2\n",
      "Type          : Student\n",
      "-------------------------------------\n"
     ]
    }
   ],
   "source": [
    "# displaying all student members (input = 2)\n",
    "display_school_members()"
   ]
  },
  {
   "cell_type": "code",
   "execution_count": 144,
   "metadata": {},
   "outputs": [
    {
     "name": "stdout",
     "output_type": "stream",
     "text": [
      "Name          : Ahmed\n",
      "ID            : 1\n",
      "Type          : Teacher\n",
      "-------------------------------------\n"
     ]
    }
   ],
   "source": [
    "# displaying all teacher members (input = 3)\n",
    "display_school_members()"
   ]
  },
  {
   "cell_type": "markdown",
   "metadata": {},
   "source": [
    "### Searching members by ID"
   ]
  },
  {
   "cell_type": "code",
   "execution_count": 149,
   "metadata": {},
   "outputs": [
    {
     "name": "stdout",
     "output_type": "stream",
     "text": [
      "Name          : Ahmed\n",
      "ID            : 1\n",
      "Type          : Teacher\n",
      "Phone         : 012456165654\n",
      "Email         : ahmed@gmail.com\n",
      "Location      : Alexandria\n",
      "Salary        : 3000\n",
      "Subjects      : ['Math', 'English']\n",
      "-------------------------\n",
      "Name          : mohamed\n",
      "ID            : 2\n",
      "Type          : Student\n",
      "Phone         : 011546468786\n",
      "Email         : mo@gmail.com\n",
      "Location      : Alex\n",
      "Tuition fees  : 5000\n",
      "Subjects      : {'Math': 40.0, 'Arabic': 52.0, 'Science': 65.0, 'English': 79.0, 'French': 95.0}\n",
      "Results       : {'Math': 'F', 'Arabic': 'F', 'Science': 'D', 'English': 'C', 'French': 'A'}\n"
     ]
    }
   ],
   "source": [
    "member = find_member_by_id(1)\n",
    "print(member.__str__)\n",
    "print('-------------------------')\n",
    "member = find_member_by_id(2)\n",
    "print(member.__str__)"
   ]
  },
  {
   "cell_type": "markdown",
   "metadata": {},
   "source": [
    "### Adding student subjects"
   ]
  },
  {
   "cell_type": "code",
   "execution_count": 150,
   "metadata": {},
   "outputs": [
    {
     "data": {
      "text/plain": [
       "{'Math': 40.0,\n",
       " 'Arabic': 52.0,\n",
       " 'Science': 65.0,\n",
       " 'English': 79.0,\n",
       " 'French': 95.0,\n",
       " 'python': 73}"
      ]
     },
     "execution_count": 150,
     "metadata": {},
     "output_type": "execute_result"
    }
   ],
   "source": [
    "member = find_member_by_id(2)\n",
    "member.add_subject(subject='python', grade=73)\n",
    "member.subjects"
   ]
  },
  {
   "cell_type": "markdown",
   "metadata": {},
   "source": [
    "### Modifiying student subjects"
   ]
  },
  {
   "cell_type": "code",
   "execution_count": 151,
   "metadata": {},
   "outputs": [
    {
     "data": {
      "text/plain": [
       "{'Math': 40.0,\n",
       " 'Arabic': 52.0,\n",
       " 'Science': 65.0,\n",
       " 'English': 79.0,\n",
       " 'French': 88,\n",
       " 'python': 73}"
      ]
     },
     "execution_count": 151,
     "metadata": {},
     "output_type": "execute_result"
    }
   ],
   "source": [
    "member.modify_subject('French', 88)\n",
    "member.subjects"
   ]
  },
  {
   "cell_type": "markdown",
   "metadata": {},
   "source": [
    "### Removing student subjects"
   ]
  },
  {
   "cell_type": "code",
   "execution_count": 152,
   "metadata": {},
   "outputs": [
    {
     "data": {
      "text/plain": [
       "{'Math': 40.0, 'Arabic': 52.0, 'English': 79.0, 'French': 88, 'python': 73}"
      ]
     },
     "execution_count": 152,
     "metadata": {},
     "output_type": "execute_result"
    }
   ],
   "source": [
    "member.remove_subject('Science')\n",
    "member.subjects"
   ]
  },
  {
   "cell_type": "markdown",
   "metadata": {},
   "source": [
    "### Student grades and total percentage"
   ]
  },
  {
   "cell_type": "code",
   "execution_count": 153,
   "metadata": {},
   "outputs": [
    {
     "name": "stdout",
     "output_type": "stream",
     "text": [
      "subject, grade, result\n",
      "Math, 40.0, F\n",
      "Arabic, 52.0, F\n",
      "English, 79.0, C\n",
      "French, 88, B\n",
      "python, 73, C\n"
     ]
    }
   ],
   "source": [
    "total = member.calc_total_percentage()\n",
    "print('subject, grade, result')\n",
    "for subject, grade, result in zip(member.subjects.keys(), member.subjects.values(), member.results.values()):\n",
    "    print(f'{subject}, {grade}, {result}')"
   ]
  }
 ],
 "metadata": {
  "kernelspec": {
   "display_name": "Python 3.9.5 64-bit",
   "language": "python",
   "name": "python3"
  },
  "language_info": {
   "codemirror_mode": {
    "name": "ipython",
    "version": 3
   },
   "file_extension": ".py",
   "mimetype": "text/x-python",
   "name": "python",
   "nbconvert_exporter": "python",
   "pygments_lexer": "ipython3",
   "version": "3.9.5"
  },
  "orig_nbformat": 4,
  "vscode": {
   "interpreter": {
    "hash": "16e7e892ae9cd1cb86b51afde21c3cb9421377363121f1f089517d3a9eff154b"
   }
  }
 },
 "nbformat": 4,
 "nbformat_minor": 2
}
